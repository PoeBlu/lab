{
 "cells": [
  {
   "cell_type": "markdown",
   "metadata": {},
   "source": [
    "# Public Key Encryption"
   ]
  },
  {
   "cell_type": "code",
   "execution_count": 1,
   "metadata": {},
   "outputs": [],
   "source": [
    "from math import sqrt\n",
    "from typing import Tuple"
   ]
  },
  {
   "cell_type": "markdown",
   "metadata": {},
   "source": [
    "## [Diffie-Hellman](https://en.wikipedia.org/wiki/Diffie–Hellman_key_exchange) Key Exchange"
   ]
  },
  {
   "cell_type": "code",
   "execution_count": 2,
   "metadata": {},
   "outputs": [],
   "source": [
    "# Public, shared information\n",
    "p: int = 23 # A prime number\n",
    "g: int = 5 # A base number"
   ]
  },
  {
   "cell_type": "code",
   "execution_count": 3,
   "metadata": {},
   "outputs": [],
   "source": [
    "# Private, non-shared information\n",
    "a: int = 4 # Alices secret exponent\n",
    "b: int = 3 # Bobs secret exponent"
   ]
  },
  {
   "cell_type": "code",
   "execution_count": 4,
   "metadata": {},
   "outputs": [],
   "source": [
    "def alice_enc(p: int, g: int) -> int:\n",
    "    return (g ** a) % p"
   ]
  },
  {
   "cell_type": "code",
   "execution_count": 5,
   "metadata": {},
   "outputs": [],
   "source": [
    "def bob_enc(p: int, g: int) -> int:\n",
    "    return (g ** b) % p"
   ]
  },
  {
   "cell_type": "code",
   "execution_count": 6,
   "metadata": {},
   "outputs": [],
   "source": [
    "j: int = alice_enc(p, g)\n",
    "k: int = bob_enc(p, g)"
   ]
  },
  {
   "cell_type": "code",
   "execution_count": 7,
   "metadata": {},
   "outputs": [],
   "source": [
    "def alice_dec(k: int) -> int:\n",
    "    return (k ** a) % p\n",
    "\n",
    "assert alice_dec(k) == (k ** a % p) == (g ** (b * a) % p)"
   ]
  },
  {
   "cell_type": "code",
   "execution_count": 8,
   "metadata": {},
   "outputs": [],
   "source": [
    "def bob_dec(j: int) -> int:\n",
    "    return (j ** b) % p\n",
    "\n",
    "assert bob_dec(j) == (j ** b % p) == (g ** (a * b) % p)"
   ]
  },
  {
   "cell_type": "code",
   "execution_count": 9,
   "metadata": {},
   "outputs": [
    {
     "name": "stdout",
     "output_type": "stream",
     "text": [
      "Alices number: 18\n",
      "Bobs number: 18\n"
     ]
    }
   ],
   "source": [
    "print(f'Alices number: {alice_dec(k)}')\n",
    "print(f'Bobs number: {bob_dec(j)}')"
   ]
  },
  {
   "cell_type": "markdown",
   "metadata": {},
   "source": [
    "## [RSA](https://en.wikipedia.org/wiki/RSA_(cryptosystem)) Cryptosystem"
   ]
  },
  {
   "cell_type": "code",
   "execution_count": 10,
   "metadata": {},
   "outputs": [],
   "source": [
    "# Taken from: https://en.wikibooks.org/wiki/Algorithm_Implementation/Mathematics/Extended_Euclidean_algorithm\n",
    "def egcd(a: int, b: int) -> Tuple[int, int, int]:\n",
    "    if a == 0:\n",
    "        return (b, 0, 1)\n",
    "    else:\n",
    "        g, y, x = egcd(b % a, a)\n",
    "        return (g, x - (b // a) * y, y)\n",
    "\n",
    "def modinv(a: int, m: int) -> int:\n",
    "    g, x, y = egcd(a, m)\n",
    "    if g != 1:\n",
    "        raise Exception('modular inverse does not exist')\n",
    "    else:\n",
    "        return x % m\n",
    "\n",
    "assert modinv(17, 3120) == 2753\n",
    "assert egcd(1071, 462) == (21, -3, 7)"
   ]
  },
  {
   "cell_type": "code",
   "execution_count": 11,
   "metadata": {},
   "outputs": [],
   "source": [
    "# Private, non-shared information\n",
    "p: int = 61\n",
    "q: int = 53\n",
    "n: int = p * q\n",
    "phi_n: int = (p - 1) * (q - 1)\n",
    "\n",
    "# NOTE: We start with a \"high\" guess for e here so that we can control\n",
    "# how \"large\" e should be\n",
    "e: int = 12\n",
    "while egcd(e, phi_n)[0] != 1:\n",
    "    e += 1\n",
    "\n",
    "d: int = modinv(e, phi_n)\n",
    "\n",
    "secret_key: Tuple[int, int] = (d, n)\n",
    "\n",
    "# Public, shared information\n",
    "public_key: Tuple[int, int] = (e, n)\n",
    "    \n",
    "assert secret_key == (2753, 3233)\n",
    "assert public_key == (17, 3233)"
   ]
  },
  {
   "cell_type": "code",
   "execution_count": 12,
   "metadata": {},
   "outputs": [
    {
     "name": "stdout",
     "output_type": "stream",
     "text": [
      "Message (Plaintext): 42\n",
      "Message (Encrypted): 2557\n",
      "Message (Decrypted): 42\n"
     ]
    }
   ],
   "source": [
    "e: int = public_key[0]\n",
    "n: int = public_key[1]\n",
    "\n",
    "plaintext: int = 42\n",
    "print(f'Message (Plaintext): {plaintext}')\n",
    "\n",
    "ciphertext: int = (plaintext ** e) % n\n",
    "print(f'Message (Encrypted): {ciphertext}')\n",
    "\n",
    "d: int = secret_key[0]\n",
    "n: int = secret_key[1]\n",
    "decrypted: int = (ciphertext ** d) % n\n",
    "    \n",
    "print(f'Message (Decrypted): {decrypted}')"
   ]
  }
 ],
 "metadata": {
  "kernelspec": {
   "display_name": "Python 3",
   "language": "python",
   "name": "python3"
  },
  "language_info": {
   "codemirror_mode": {
    "name": "ipython",
    "version": 3
   },
   "file_extension": ".py",
   "mimetype": "text/x-python",
   "name": "python",
   "nbconvert_exporter": "python",
   "pygments_lexer": "ipython3",
   "version": "3.6.9"
  }
 },
 "nbformat": 4,
 "nbformat_minor": 4
}
