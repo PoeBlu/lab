{
 "cells": [
  {
   "cell_type": "markdown",
   "metadata": {},
   "source": [
    "# Homomorphic Encrpytion\n",
    "Playing around with (fully) homomorphic encryption schemes."
   ]
  },
  {
   "cell_type": "code",
   "execution_count": 1,
   "metadata": {},
   "outputs": [],
   "source": [
    "from math import gcd\n",
    "from random import randint\n",
    "from typing import List, Tuple, NamedTuple"
   ]
  },
  {
   "cell_type": "code",
   "execution_count": 2,
   "metadata": {},
   "outputs": [],
   "source": [
    "# Taken from: https://en.wikibooks.org/wiki/Algorithm_Implementation/Mathematics/Extended_Euclidean_algorithm\n",
    "def egcd(a: int, b: int) -> Tuple[int, int, int]:\n",
    "    if a == 0:\n",
    "        return (b, 0, 1)\n",
    "    else:\n",
    "        g, y, x = egcd(b % a, a)\n",
    "        return (g, x - (b // a) * y, y)\n",
    "\n",
    "def modinv(a: int, m: int) -> int:\n",
    "    g, x, y = egcd(a, m)\n",
    "    if g != 1:\n",
    "        raise Exception('modular inverse does not exist')\n",
    "    else:\n",
    "        return x % m\n",
    "\n",
    "assert modinv(17, 3120) == 2753\n",
    "assert egcd(1071, 462) == (21, -3, 7)"
   ]
  },
  {
   "cell_type": "markdown",
   "metadata": {},
   "source": [
    "## [El Gamal](https://en.wikipedia.org/wiki/ElGamal_encryption)\n",
    "\n",
    "El Gamal can be used to perform encrypted multiplications."
   ]
  },
  {
   "cell_type": "code",
   "execution_count": 3,
   "metadata": {},
   "outputs": [],
   "source": [
    "class PublicKey(NamedTuple):\n",
    "    p: int\n",
    "    a: int\n",
    "    b: int\n",
    "\n",
    "class SecretKey(NamedTuple):\n",
    "    d: int\n",
    "\n",
    "class Ciphertext(NamedTuple):\n",
    "    r: int\n",
    "    t: int"
   ]
  },
  {
   "cell_type": "code",
   "execution_count": 4,
   "metadata": {},
   "outputs": [],
   "source": [
    "def keygen(p: int) -> Tuple[PublicKey, SecretKey]:\n",
    "    # a: 1 < a < p - 1\n",
    "    a: int = randint(1, p - 1)\n",
    "    # d: 2 <= d <= p - 2\n",
    "    d: int = randint(2, p - 2)\n",
    "    b: int = (a ** d) % p\n",
    "    pk: PublicKey = PublicKey(p, a, b)\n",
    "    sk: SecretKey = SecretKey(d)\n",
    "    return (pk, sk)"
   ]
  },
  {
   "cell_type": "code",
   "execution_count": 5,
   "metadata": {},
   "outputs": [],
   "source": [
    "def encrypt(message: int, pk: PublicKey) -> Ciphertext:\n",
    "    k: int = randint(0, 100)    \n",
    "    r: int = (pk.a ** k) % pk.p\n",
    "    t: int = ((pk.b ** k) * message) % pk.p\n",
    "    return Ciphertext(r, t)"
   ]
  },
  {
   "cell_type": "code",
   "execution_count": 6,
   "metadata": {},
   "outputs": [],
   "source": [
    "def decrypt(c: Ciphertext, pk: PublicKey, sk: SecretKey) -> int:\n",
    "    # NOTE: This implementation of https://en.wikipedia.org/wiki/Modular_multiplicative_inverse is expensive\n",
    "    # TODO: One can use the `modinv` function from above but I'll leave this code here as another way to compute it\n",
    "    return ((c.r ** sk.d) ** (pk.p - 2) * c.t) % pk.p"
   ]
  },
  {
   "cell_type": "code",
   "execution_count": 7,
   "metadata": {},
   "outputs": [],
   "source": [
    "def mult(a: Ciphertext, b: Ciphertext) -> Ciphertext:\n",
    "    r: int = a.r * b.r\n",
    "    t: int = a.t * b.t\n",
    "    return Ciphertext(r, t)"
   ]
  },
  {
   "cell_type": "code",
   "execution_count": 8,
   "metadata": {},
   "outputs": [
    {
     "name": "stdout",
     "output_type": "stream",
     "text": [
      "--- Message Encryption / Decryption ---\n",
      "Message (Plaintext): 42\n",
      "Message (Ciphertext): Ciphertext(r=32, t=28)\n",
      "Message (Decrypted): 42\n"
     ]
    }
   ],
   "source": [
    "pk, sk = keygen(47)\n",
    "\n",
    "print('--- Message Encryption / Decryption ---')\n",
    "plaintext: int = 42\n",
    "print(f'Message (Plaintext): {plaintext}')\n",
    "    \n",
    "ciphertext: Ciphertext = encrypt(plaintext, pk)\n",
    "print(f'Message (Ciphertext): {ciphertext}')\n",
    "\n",
    "decrypted: int = decrypt(ciphertext, pk, sk)\n",
    "print(f'Message (Decrypted): {decrypted}')"
   ]
  },
  {
   "cell_type": "code",
   "execution_count": 9,
   "metadata": {},
   "outputs": [
    {
     "name": "stdout",
     "output_type": "stream",
     "text": [
      "--- Encrypted Multiplication ---\n",
      "Numbers (Plaintext): 6, 5\n",
      "Result (Plaintext): 30\n",
      "Numbers (Ciphertext): Ciphertext(r=42, t=2), Ciphertext(r=9, t=26)\n",
      "Result (Ciphertext): Ciphertext(r=378, t=52)\n",
      "Result (Decrypted): 30\n"
     ]
    }
   ],
   "source": [
    "pk, sk = keygen(47)\n",
    "\n",
    "print('--- Encrypted Multiplication ---')\n",
    "a: int = 6\n",
    "b: int = 5\n",
    "print(f'Numbers (Plaintext): {a}, {b}')\n",
    "print(f'Result (Plaintext): {a * b}')\n",
    "\n",
    "enc_a: Ciphertext = encrypt(a, pk)\n",
    "enc_b: Ciphertext = encrypt(b, pk)\n",
    "print(f'Numbers (Ciphertext): {enc_a}, {enc_b}')\n",
    "\n",
    "result: Ciphertext = mult(enc_a, enc_b)\n",
    "print(f'Result (Ciphertext): {result}')\n",
    "decrypted: int = decrypt(result, pk, sk)\n",
    "print(f'Result (Decrypted): {decrypted}')"
   ]
  },
  {
   "cell_type": "markdown",
   "metadata": {},
   "source": [
    "## [RSA](https://en.wikipedia.org/wiki/RSA_(cryptosystem)) Cryptosystem\n",
    "\n",
    "RSA can be used to perform encrypted multiplications."
   ]
  },
  {
   "cell_type": "code",
   "execution_count": 10,
   "metadata": {},
   "outputs": [],
   "source": [
    "class PublicKey(NamedTuple):\n",
    "    e: int\n",
    "    n: int\n",
    "\n",
    "class SecretKey(NamedTuple):\n",
    "    d: int\n",
    "    n: int\n",
    "\n",
    "class Ciphertext(NamedTuple):\n",
    "    m: int"
   ]
  },
  {
   "cell_type": "code",
   "execution_count": 11,
   "metadata": {},
   "outputs": [],
   "source": [
    "def keygen(p: int, q: int) -> Tuple[PublicKey, SecretKey]:\n",
    "    n: int = p * q\n",
    "    phi: int = (p - 1) * (q - 1)\n",
    "    # e must be greater than 1 and smaller than phi\n",
    "    # furthermore gcd(phi, e) must be 1\n",
    "    e: int = 2\n",
    "    while gcd(phi, e) != 1:\n",
    "        e += 1\n",
    "    d: int = modinv(e, phi)\n",
    "    pk: PublicKey = PublicKey(e, n)\n",
    "    sk: SecretKey = SecretKey(d, n)\n",
    "    return (pk, sk)\n",
    "    \n",
    "assert keygen(61, 53)[0] == PublicKey(7, 3233)\n",
    "assert keygen(61, 53)[1] == SecretKey(1783, 3233)"
   ]
  },
  {
   "cell_type": "code",
   "execution_count": 12,
   "metadata": {},
   "outputs": [],
   "source": [
    "def encrypt(message: int, pk: PublicKey) -> Ciphertext:\n",
    "    return Ciphertext(message ** pk.e % pk.n)"
   ]
  },
  {
   "cell_type": "code",
   "execution_count": 13,
   "metadata": {},
   "outputs": [],
   "source": [
    "def decrypt(c: Ciphertext, sk: SecretKey) -> int:\n",
    "    return c.m ** sk.d % sk.n"
   ]
  },
  {
   "cell_type": "code",
   "execution_count": 14,
   "metadata": {},
   "outputs": [],
   "source": [
    "def mult(a: Ciphertext, b: Ciphertext) -> Ciphertext:\n",
    "    return Ciphertext(m=(a.m * b.m))"
   ]
  },
  {
   "cell_type": "code",
   "execution_count": 15,
   "metadata": {},
   "outputs": [
    {
     "name": "stdout",
     "output_type": "stream",
     "text": [
      "--- Message Encryption / Decryption ---\n",
      "Message (Plaintext): 42\n",
      "Message (Ciphertext): Ciphertext(m=240)\n",
      "Message (Decrypted): 42\n"
     ]
    }
   ],
   "source": [
    "pk, sk = keygen(61, 53)\n",
    "\n",
    "print('--- Message Encryption / Decryption ---')\n",
    "plaintext: int = 42\n",
    "print(f'Message (Plaintext): {plaintext}')\n",
    "    \n",
    "ciphertext: Ciphertext = encrypt(plaintext, pk)\n",
    "print(f'Message (Ciphertext): {ciphertext}')\n",
    "\n",
    "decrypted: int = decrypt(ciphertext, sk)\n",
    "print(f'Message (Decrypted): {decrypted}')"
   ]
  },
  {
   "cell_type": "code",
   "execution_count": 16,
   "metadata": {},
   "outputs": [
    {
     "name": "stdout",
     "output_type": "stream",
     "text": [
      "--- Encrypted Multiplication ---\n",
      "Numbers (Plaintext): 6, 5\n",
      "Result (Plaintext): 30\n",
      "Numbers (Ciphertext): Ciphertext(m=1898), Ciphertext(m=533)\n",
      "Result (Ciphertext): Ciphertext(m=1011634)\n",
      "Result (Decrypted): 30\n"
     ]
    }
   ],
   "source": [
    "pk, sk = keygen(61, 53)\n",
    "\n",
    "print('--- Encrypted Multiplication ---')\n",
    "a: int = 6\n",
    "b: int = 5\n",
    "print(f'Numbers (Plaintext): {a}, {b}')\n",
    "print(f'Result (Plaintext): {a * b}')\n",
    "\n",
    "enc_a: Ciphertext = encrypt(a, pk)\n",
    "enc_b: Ciphertext = encrypt(b, pk)\n",
    "print(f'Numbers (Ciphertext): {enc_a}, {enc_b}')\n",
    "\n",
    "result: Ciphertext = mult(enc_a, enc_b)\n",
    "print(f'Result (Ciphertext): {result}')\n",
    "decrypted: int = decrypt(result, sk)\n",
    "print(f'Result (Decrypted): {decrypted}')"
   ]
  }
 ],
 "metadata": {
  "kernelspec": {
   "display_name": "Python 3",
   "language": "python",
   "name": "python3"
  },
  "language_info": {
   "codemirror_mode": {
    "name": "ipython",
    "version": 3
   },
   "file_extension": ".py",
   "mimetype": "text/x-python",
   "name": "python",
   "nbconvert_exporter": "python",
   "pygments_lexer": "ipython3",
   "version": "3.6.9"
  }
 },
 "nbformat": 4,
 "nbformat_minor": 4
}
