{
 "cells": [
  {
   "cell_type": "markdown",
   "metadata": {},
   "source": [
    "# The Intuition behind Word2Vec"
   ]
  },
  {
   "cell_type": "markdown",
   "metadata": {},
   "source": [
    "Have you ever wondered how YouTube knows which videos to recommend, how Google Translate is able to translate whole texts into a decent version of the target language or how your Smartphone keyboard knows which words and text snippets to suggest while you type your texts?\n",
    "\n",
    "There's a very high likelihood that so-called [Embeddings](https://en.wikipedia.org/wiki/Word_embedding) were used behind the scenes. Embeddings are one of the central ideas behind modern Natural Language Processing models.\n",
    "\n",
    "In the following writeup we'll discover the main building blocks and basic intuition behind Embeddings. We'll learn how and why they work and how [Word2Vec](https://papers.nips.cc/paper/5021-distributed-representations-of-words-and-phrases-and-their-compositionality.pdf), a method to turn words into vectors, can be used to show that:\n",
    "\n",
    "$$\n",
    "king - man + woman = queen\n",
    "$$\n",
    "\n",
    "All the code we'll write here can be found in my [\"Lab\"](https://github.com/pmuens/lab) repository on GitHub. Feel free to code along while reading through this tutorial."
   ]
  },
  {
   "cell_type": "markdown",
   "metadata": {},
   "source": [
    "## Basic Setup"
   ]
  },
  {
   "cell_type": "markdown",
   "metadata": {},
   "source": [
    "Before jumping right into the code we need to make sure that all Python packages we'll be using are installed on our machine.\n",
    "\n",
    "We install [Seaborn](https://seaborn.pydata.org), a visualization tool which helps us to plot nice-looking charts and diagrams. We don't really work with Seaborn directly but rather use its styles in conjunction with [Matplotlib](https://matplotlib.org) to make our plots look a little bit more \"modern\"."
   ]
  },
  {
   "cell_type": "code",
   "execution_count": 1,
   "metadata": {
    "scrolled": true
   },
   "outputs": [
    {
     "name": "stdout",
     "output_type": "stream",
     "text": [
      "Reading package lists... Done\n",
      "Building dependency tree       \n",
      "Reading state information... Done\n",
      "wget is already the newest version (1.19.4-1ubuntu2.2).\n",
      "0 upgraded, 0 newly installed, 0 to remove and 0 not upgraded.\n",
      "Requirement already satisfied: seaborn in /usr/local/lib/python3.6/dist-packages\n",
      "Requirement already satisfied: matplotlib>=2.1.2 in /usr/local/lib/python3.6/dist-packages (from seaborn)\n",
      "Requirement already satisfied: pandas>=0.22.0 in /usr/local/lib/python3.6/dist-packages (from seaborn)\n",
      "Requirement already satisfied: scipy>=1.0.1 in /usr/local/lib/python3.6/dist-packages (from seaborn)\n",
      "Requirement already satisfied: numpy>=1.13.3 in /usr/local/lib/python3.6/dist-packages (from seaborn)\n",
      "Requirement already satisfied: kiwisolver>=1.0.1 in /usr/local/lib/python3.6/dist-packages (from matplotlib>=2.1.2->seaborn)\n",
      "Requirement already satisfied: pyparsing!=2.0.4,!=2.1.2,!=2.1.6,>=2.0.1 in /usr/local/lib/python3.6/dist-packages (from matplotlib>=2.1.2->seaborn)\n",
      "Requirement already satisfied: python-dateutil>=2.1 in /usr/local/lib/python3.6/dist-packages (from matplotlib>=2.1.2->seaborn)\n",
      "Requirement already satisfied: cycler>=0.10 in /usr/local/lib/python3.6/dist-packages (from matplotlib>=2.1.2->seaborn)\n",
      "Requirement already satisfied: pytz>=2017.2 in /usr/local/lib/python3.6/dist-packages (from pandas>=0.22.0->seaborn)\n",
      "Requirement already satisfied: setuptools in /usr/lib/python3/dist-packages (from kiwisolver>=1.0.1->matplotlib>=2.1.2->seaborn)\n",
      "Requirement already satisfied: six>=1.5 in /usr/lib/python3/dist-packages (from python-dateutil>=2.1->matplotlib>=2.1.2->seaborn)\n"
     ]
    }
   ],
   "source": [
    "!apt-get install wget\n",
    "!pip3 install seaborn"
   ]
  },
  {
   "cell_type": "markdown",
   "metadata": {},
   "source": [
    "Next up we need to import the modules we'll use throughout this tutorial (the last few lines configure Matplotlib to use Seaborn styles)."
   ]
  },
  {
   "cell_type": "code",
   "execution_count": 2,
   "metadata": {},
   "outputs": [],
   "source": [
    "import json\n",
    "from pathlib import Path\n",
    "\n",
    "import pandas as pd\n",
    "import seaborn as sns\n",
    "import numpy as np\n",
    "from IPython.display import HTML, display\n",
    "\n",
    "# prettier Matplotlib plots\n",
    "import matplotlib.pyplot as plt\n",
    "import matplotlib.style as style\n",
    "style.use('seaborn')"
   ]
  },
  {
   "cell_type": "markdown",
   "metadata": {},
   "source": [
    "Since we're dealing with different datasets we should create a separate directory to store them in."
   ]
  },
  {
   "cell_type": "code",
   "execution_count": 3,
   "metadata": {},
   "outputs": [],
   "source": [
    "!mkdir -p data\n",
    "data_dir = Path('data')"
   ]
  },
  {
   "cell_type": "markdown",
   "metadata": {},
   "source": [
    "## Comparing Countries"
   ]
  },
  {
   "cell_type": "markdown",
   "metadata": {},
   "source": [
    "Let's start with our first data analysis task. Our goal is to compare and contrast different countries based on their surface area and population. The main idea being that we want to analyze which countries are quite similar and which are rather different based on those two metrics.\n",
    "\n",
    "The dataset we'll use is part of the [`country-json` project](https://github.com/samayo/country-json) by [@samayo](https://github.com/samayo). Make sure to take some time to browse through the [different JSON files](https://github.com/samayo/country-json/tree/master/src) to get an idea about the structure of the data.\n",
    "\n",
    "In our example we're only interested in the [`country-by-surface-area.json`](https://github.com/samayo/country-json/blob/master/src/country-by-surface-area.json) and [`country-by-population.json`](https://github.com/samayo/country-json/blob/master/src/country-by-population.json) files. Let's go ahead and download the files to our `data` directory.\n",
    "\n",
    "After that we can define 2 variables which will point to the files on our file system."
   ]
  },
  {
   "cell_type": "code",
   "execution_count": 4,
   "metadata": {},
   "outputs": [],
   "source": [
    "SURFACE_AREA_FILE_NAME = 'country-by-surface-area.json'\n",
    "POPULATION_FILE_NAME = 'country-by-population.json'"
   ]
  },
  {
   "cell_type": "code",
   "execution_count": 5,
   "metadata": {},
   "outputs": [
    {
     "name": "stdout",
     "output_type": "stream",
     "text": [
      "--2020-01-31 20:18:01--  https://raw.githubusercontent.com/samayo/country-json/master/src/country-by-surface-area.json\n",
      "Resolving raw.githubusercontent.com (raw.githubusercontent.com)... 151.101.192.133, 151.101.0.133, 151.101.64.133, ...\n",
      "Connecting to raw.githubusercontent.com (raw.githubusercontent.com)|151.101.192.133|:443... connected.\n",
      "HTTP request sent, awaiting response... 200 OK\n",
      "Length: 14185 (14K) [text/plain]\n",
      "Saving to: 'data/country-by-surface-area.json'\n",
      "\n",
      "data/country-by-sur 100%[===================>]  13.85K  --.-KB/s    in 0.007s  \n",
      "\n",
      "2020-01-31 20:18:01 (1.85 MB/s) - 'data/country-by-surface-area.json' saved [14185/14185]\n",
      "\n",
      "--2020-01-31 20:18:02--  https://raw.githubusercontent.com/samayo/country-json/master/src/country-by-population.json\n",
      "Resolving raw.githubusercontent.com (raw.githubusercontent.com)... 151.101.192.133, 151.101.0.133, 151.101.64.133, ...\n",
      "Connecting to raw.githubusercontent.com (raw.githubusercontent.com)|151.101.192.133|:443... connected.\n",
      "HTTP request sent, awaiting response... 200 OK\n",
      "Length: 18886 (18K) [text/plain]\n",
      "Saving to: 'data/country-by-population.json'\n",
      "\n",
      "data/country-by-pop 100%[===================>]  18.44K  --.-KB/s    in 0.02s   \n",
      "\n",
      "2020-01-31 20:18:02 (1017 KB/s) - 'data/country-by-population.json' saved [18886/18886]\n",
      "\n"
     ]
    }
   ],
   "source": [
    "!wget -nc https://raw.githubusercontent.com/samayo/country-json/master/src/country-by-surface-area.json -O data/country-by-surface-area.json\n",
    "!wget -nc https://raw.githubusercontent.com/samayo/country-json/master/src/country-by-population.json -O data/country-by-population.json"
   ]
  },
  {
   "cell_type": "code",
   "execution_count": 6,
   "metadata": {},
   "outputs": [],
   "source": [
    "surface_area_file_path = str(data_dir / SURFACE_AREA_FILE_NAME)\n",
    "population_file_path = str(data_dir / POPULATION_FILE_NAME)"
   ]
  },
  {
   "cell_type": "markdown",
   "metadata": {},
   "source": [
    "During our data analysis we'll utilize [Pandas](https://pandas.pydata.org), a great Python library which makes it dead simple to inspect and manipulate data.\n",
    "\n",
    "Since our data is in JSON format we can use Pandas [`read_json`](https://pandas.pydata.org/pandas-docs/stable/reference/api/pandas.read_json.html) function to load the data into a so-called [DataFrame](https://pandas.pydata.org/pandas-docs/stable/reference/api/pandas.DataFrame.html) (think of it as an Excel spreadsheet on steroids).\n",
    "\n",
    "The [`dropna`](https://pandas.pydata.org/pandas-docs/stable/reference/api/pandas.DataFrame.dropna.html) function makes sure that we remove all entries which are undefined and therefore useless for further inspection."
   ]
  },
  {
   "cell_type": "code",
   "execution_count": 7,
   "metadata": {},
   "outputs": [],
   "source": [
    "df_surface_area = pd.read_json(surface_area_file_path)\n",
    "df_population = pd.read_json(population_file_path)\n",
    "\n",
    "df_population.dropna(inplace=True)\n",
    "df_surface_area.dropna(inplace=True)"
   ]
  },
  {
   "cell_type": "markdown",
   "metadata": {},
   "source": [
    "You might've noticed that dealing with 2 separate files will get quite hairy if we want to compare countries based on their 2 metrics.\n",
    "\n",
    "Since both files contain the same countries with the same names and only differ in terms of their `area` and `population` data we can use [`merge`](https://pandas.pydata.org/pandas-docs/stable/reference/api/pandas.DataFrame.merge.html) to create a new DataFrame containing all countries with their respective `area` and `population` numbers.\n",
    "\n",
    "Another tweak we perform here is to set the `index` to the country name. This way we can easily query for country data based on the country names rather than having to deal with non-expressive integer values."
   ]
  },
  {
   "cell_type": "code",
   "execution_count": 8,
   "metadata": {},
   "outputs": [
    {
     "data": {
      "text/html": [
       "<div>\n",
       "<style scoped>\n",
       "    .dataframe tbody tr th:only-of-type {\n",
       "        vertical-align: middle;\n",
       "    }\n",
       "\n",
       "    .dataframe tbody tr th {\n",
       "        vertical-align: top;\n",
       "    }\n",
       "\n",
       "    .dataframe thead th {\n",
       "        text-align: right;\n",
       "    }\n",
       "</style>\n",
       "<table border=\"1\" class=\"dataframe\">\n",
       "  <thead>\n",
       "    <tr style=\"text-align: right;\">\n",
       "      <th></th>\n",
       "      <th>area</th>\n",
       "      <th>population</th>\n",
       "    </tr>\n",
       "    <tr>\n",
       "      <th>country</th>\n",
       "      <th></th>\n",
       "      <th></th>\n",
       "    </tr>\n",
       "  </thead>\n",
       "  <tbody>\n",
       "    <tr>\n",
       "      <th>Aruba</th>\n",
       "      <td>193.0</td>\n",
       "      <td>105264.0</td>\n",
       "    </tr>\n",
       "    <tr>\n",
       "      <th>Afghanistan</th>\n",
       "      <td>652090.0</td>\n",
       "      <td>35530081.0</td>\n",
       "    </tr>\n",
       "    <tr>\n",
       "      <th>Angola</th>\n",
       "      <td>1246700.0</td>\n",
       "      <td>29784193.0</td>\n",
       "    </tr>\n",
       "    <tr>\n",
       "      <th>Anguilla</th>\n",
       "      <td>96.0</td>\n",
       "      <td>14909.0</td>\n",
       "    </tr>\n",
       "    <tr>\n",
       "      <th>Albania</th>\n",
       "      <td>28748.0</td>\n",
       "      <td>2930187.0</td>\n",
       "    </tr>\n",
       "  </tbody>\n",
       "</table>\n",
       "</div>"
      ],
      "text/plain": [
       "                  area  population\n",
       "country                           \n",
       "Aruba            193.0    105264.0\n",
       "Afghanistan   652090.0  35530081.0\n",
       "Angola       1246700.0  29784193.0\n",
       "Anguilla          96.0     14909.0\n",
       "Albania        28748.0   2930187.0"
      ]
     },
     "execution_count": 8,
     "metadata": {},
     "output_type": "execute_result"
    }
   ],
   "source": [
    "df = pd.merge(df_surface_area, df_population, on='country')\n",
    "df.set_index('country', inplace=True)\n",
    "df.head()"
   ]
  },
  {
   "cell_type": "code",
   "execution_count": 9,
   "metadata": {},
   "outputs": [
    {
     "data": {
      "text/plain": [
       "227"
      ]
     },
     "execution_count": 9,
     "metadata": {},
     "output_type": "execute_result"
    }
   ],
   "source": [
    "len(df)"
   ]
  },
  {
   "cell_type": "markdown",
   "metadata": {},
   "source": [
    "As you can see we have a total of 227 countries in our DataFrame. 227 are way too many countries for our need. Especially since we're about to plot the data in the next step.\n",
    "\n",
    "Let's reduce our result set by perfoming some range-queries with the `area` and `population` data."
   ]
  },
  {
   "cell_type": "code",
   "execution_count": 10,
   "metadata": {},
   "outputs": [
    {
     "data": {
      "text/plain": [
       "12"
      ]
     },
     "execution_count": 10,
     "metadata": {},
     "output_type": "execute_result"
    }
   ],
   "source": [
    "df = df[\n",
    "    (df['area'] > 100000) & (df['area'] < 600000) &\n",
    "    (df['population'] > 35000000) & (df['population'] < 100000000)\n",
    "]\n",
    "len(df)"
   ]
  },
  {
   "cell_type": "markdown",
   "metadata": {},
   "source": [
    "Great! 12 countries are way easier to analyze once plotted.\n",
    "\n",
    "Speaking of which, let's do a 2D [scatterplot](https://en.wikipedia.org/wiki/Scatter_plot) of our 12 countries. We decide to plot the `area` on the X axis and the `population` on the Y axis."
   ]
  },
  {
   "cell_type": "code",
   "execution_count": 11,
   "metadata": {},
   "outputs": [
    {
     "data": {
      "image/png": "[encoded data removed]",
      "text/plain": [
       "<Figure size 720x720 with 1 Axes>"
      ]
     },
     "metadata": {},
     "output_type": "display_data"
    }
   ],
   "source": [
    "fig, ax = plt.subplots()\n",
    "df.plot(x='area', y='population', figsize=(10, 10), kind='scatter', ax=ax)\n",
    "\n",
    "for k, v in df.iterrows():\n",
    "    ax.annotate(k, v)\n",
    "\n",
    "fig.canvas.draw()"
   ]
  },
  {
   "cell_type": "markdown",
   "metadata": {},
   "source": [
    "Looking at the plotted data we can immediately see some relationships. It appears that Vietnam has a high population compared to its area. Kenya on the other hand has a large surface area but a smaller population compared to its size.\n",
    "\n",
    "Plotting the data like this helps us to reason about it in a visual way. In addition to that we can also easily validate the integrity of our data."
   ]
  },
  {
   "cell_type": "markdown",
   "metadata": {},
   "source": [
    "While we as humans can immediately tell the relationships in our country data just by looking at our plot it's necessary to translate our visual reasoning into raw numbers so our computer can understand them too.\n",
    "\n",
    "Looking at the plot again it seems like the distance between the data points of the countries is a good measure to determine how \"similar\" or \"different\" the countries are.\n",
    "\n",
    "There are several algorithms to calculate the distance between two (or more) coordinates. The [Euclidean distance](https://en.wikipedia.org/wiki/Euclidean_distance) is a very common formula to do just that. Here's the Math notation:\n",
    "\n",
    "$$\n",
    "d(x, y) = d(y, x) = \\sqrt{\\sum_{i=1}^N (x_i - y_i)^2}\n",
    "$$"
   ]
  },
  {
   "cell_type": "markdown",
   "metadata": {},
   "source": [
    "While the formula might look intimidating at first it's rather simple to turn it into code."
   ]
  },
  {
   "cell_type": "code",
   "execution_count": 12,
   "metadata": {},
   "outputs": [],
   "source": [
    "def euclidean_distance(x, y):\n",
    "    x1, x2 = x\n",
    "    y1, y2 = y\n",
    "    result = np.sqrt((x1 - x2) ** 2 + (y1 - y2) ** 2)\n",
    "    # we'll cast the result into an int which makes it easier to compare\n",
    "    return int(round(result, 0))"
   ]
  },
  {
   "cell_type": "markdown",
   "metadata": {},
   "source": [
    "According to our plot it seems like Thailand and Uganda are 2 countries which are very different. Computing the Euclidean distance between both validates our hunch."
   ]
  },
  {
   "cell_type": "code",
   "execution_count": 13,
   "metadata": {},
   "outputs": [
    {
     "data": {
      "text/plain": [
       "26175969"
      ]
     },
     "execution_count": 13,
     "metadata": {},
     "output_type": "execute_result"
    }
   ],
   "source": [
    "# Uganda <--> Thailand\n",
    "uganda = df.loc['Uganda']\n",
    "thailand = df.loc['Thailand']\n",
    "\n",
    "x = (uganda['area'], thailand['area'])\n",
    "y = (uganda['population'], thailand['population'])\n",
    "\n",
    "euclidean_distance(x, y)"
   ]
  },
  {
   "cell_type": "markdown",
   "metadata": {},
   "source": [
    "If we compare this result to the Eudlidean distance between Iraq and Morocco we can see that those countries seem to be more \"similar\"."
   ]
  },
  {
   "cell_type": "code",
   "execution_count": 14,
   "metadata": {},
   "outputs": [
    {
     "data": {
      "text/plain": [
       "2535051"
      ]
     },
     "execution_count": 14,
     "metadata": {},
     "output_type": "execute_result"
    }
   ],
   "source": [
    "# Iraq <--> Morocco\n",
    "iraq = df.loc['Iraq']\n",
    "morocco = df.loc['Morocco']\n",
    "\n",
    "x = (iraq['area'], morocco['area'])\n",
    "y = (iraq['population'], morocco['population'])\n",
    "\n",
    "euclidean_distance(x, y)"
   ]
  },
  {
   "cell_type": "markdown",
   "metadata": {},
   "source": [
    "While this exercise was quite simple and intuitive if one is fluent in geography it also introduced us to the basic concepts of Embeddings. With Embeddings we map data (e.g. words or raw numbers) into multi-dimensional spaces and use Math to manipulate and calculate relationships between that data.\n",
    "\n",
    "This might sound rather abstract and I agree that the relationship between our Country data analysis and Embeddings is still a little bit fuzzy.\n",
    "\n",
    "Turst me, the upcoming example will definitely result in an \"Aha Moment\" and suddenly what we've learned so far will click!"
   ]
  },
  {
   "cell_type": "markdown",
   "metadata": {},
   "source": [
    "## Color Math"
   ]
  },
  {
   "cell_type": "markdown",
   "metadata": {},
   "source": [
    "Now that we've seen some of the underlying principles of Embeddings let's take another look at a slightly more complicated example. This time we'll work with different colors and their representation as a combination of Red, Green and Blue values (also known as RGB)."
   ]
  },
  {
   "cell_type": "markdown",
   "metadata": {},
   "source": [
    "Before we jump right into our analysis we'll define a helper function which lets us render the color according to its RGB representation.\n",
    "\n",
    "The following code defines a function which takes the integer values of Red, Green and Blue (values in the range of 0 - 255) and renders a HTML document with the given color as its background."
   ]
  },
  {
   "cell_type": "code",
   "execution_count": 15,
   "metadata": {},
   "outputs": [],
   "source": [
    "def render_color(r, g, b):\n",
    "    display(HTML('''\n",
    "      <div style=\"background-color: rgba(%d, %d, %d, 1); height: 100px;\"></div>\n",
    "    ''' % (r, g, b)),\n",
    "    metadata=dict(isolated=True))"
   ]
  },
  {
   "cell_type": "markdown",
   "metadata": {},
   "source": [
    "The color black is represented as 0 Red, 0 Green and 0 Blue. Let's validate that our `render_color` function works as expected."
   ]
  },
  {
   "cell_type": "code",
   "execution_count": 16,
   "metadata": {},
   "outputs": [
    {
     "data": {
      "text/html": [
       "\n",
       "      <div style=\"background-color: rgba(0, 0, 0, 1); height: 100px;\"></div>\n",
       "    "
      ],
      "text/plain": [
       "<IPython.core.display.HTML object>"
      ]
     },
     "metadata": {
      "isolated": true
     },
     "output_type": "display_data"
    }
   ],
   "source": [
    "render_color(0, 0, 0)"
   ]
  },
  {
   "cell_type": "markdown",
   "metadata": {},
   "source": [
    "Great. It works!\n",
    "\n",
    "Next up it's time to download the dataset we'll be using for our color analysis. We've decided to use the [256 Colors](https://jonasjacek.github.io/colors/) dataset by [@jonasjacek](https://github.com/jonasjacek). It lists the 256 colors used by [xterm](https://en.wikipedia.org/wiki/Xterm), a widely used terminal emulator. Make sure to take a couple of minutes to familiarize yourself with the data and its structure.\n",
    "\n",
    "Downloading the dataset follows the same instruction we've used in the beginning of this tutorial where we downloaded the Country data."
   ]
  },
  {
   "cell_type": "code",
   "execution_count": 17,
   "metadata": {},
   "outputs": [],
   "source": [
    "COLORS_256_FILE_NAME = 'colors-256.json'"
   ]
  },
  {
   "cell_type": "code",
   "execution_count": 18,
   "metadata": {},
   "outputs": [
    {
     "name": "stdout",
     "output_type": "stream",
     "text": [
      "--2020-01-31 20:18:04--  https://jonasjacek.github.io/colors/data.json\n",
      "Resolving jonasjacek.github.io (jonasjacek.github.io)... 185.199.108.153, 185.199.109.153, 185.199.110.153, ...\n",
      "Connecting to jonasjacek.github.io (jonasjacek.github.io)|185.199.108.153|:443... connected.\n",
      "HTTP request sent, awaiting response... 200 OK\n",
      "Length: 30762 (30K) [application/json]\n",
      "Saving to: 'data/colors-256.json'\n",
      "\n",
      "data/colors-256.jso 100%[===================>]  30.04K  --.-KB/s    in 0.02s   \n",
      "\n",
      "2020-01-31 20:18:05 (1.23 MB/s) - 'data/colors-256.json' saved [30762/30762]\n",
      "\n"
     ]
    }
   ],
   "source": [
    "!wget -nc https://jonasjacek.github.io/colors/data.json -O data/colors-256.json"
   ]
  },
  {
   "cell_type": "code",
   "execution_count": 19,
   "metadata": {},
   "outputs": [],
   "source": [
    "colors_256_file_path = str(data_dir / COLORS_256_FILE_NAME)"
   ]
  },
  {
   "cell_type": "markdown",
   "metadata": {},
   "source": [
    "Now that we have access to the data in our programming environment it's time to inspect the structure and think about ways to further process it."
   ]
  },
  {
   "cell_type": "code",
   "execution_count": 20,
   "metadata": {},
   "outputs": [
    {
     "data": {
      "text/plain": [
       "[{'colorId': 0,\n",
       "  'hexString': '#000000',\n",
       "  'rgb': {'r': 0, 'g': 0, 'b': 0},\n",
       "  'hsl': {'h': 0, 's': 0, 'l': 0},\n",
       "  'name': 'Black'},\n",
       " {'colorId': 1,\n",
       "  'hexString': '#800000',\n",
       "  'rgb': {'r': 128, 'g': 0, 'b': 0},\n",
       "  'hsl': {'h': 0, 's': 100, 'l': 25},\n",
       "  'name': 'Maroon'},\n",
       " {'colorId': 2,\n",
       "  'hexString': '#008000',\n",
       "  'rgb': {'r': 0, 'g': 128, 'b': 0},\n",
       "  'hsl': {'h': 120, 's': 100, 'l': 25},\n",
       "  'name': 'Green'},\n",
       " {'colorId': 3,\n",
       "  'hexString': '#808000',\n",
       "  'rgb': {'r': 128, 'g': 128, 'b': 0},\n",
       "  'hsl': {'h': 60, 's': 100, 'l': 25},\n",
       "  'name': 'Olive'},\n",
       " {'colorId': 4,\n",
       "  'hexString': '#000080',\n",
       "  'rgb': {'r': 0, 'g': 0, 'b': 128},\n",
       "  'hsl': {'h': 240, 's': 100, 'l': 25},\n",
       "  'name': 'Navy'}]"
      ]
     },
     "execution_count": 20,
     "metadata": {},
     "output_type": "execute_result"
    }
   ],
   "source": [
    "color_data = json.loads(open(colors_256_file_path, 'r').read())\n",
    "color_data[:5]"
   ]
  },
  {
   "cell_type": "markdown",
   "metadata": {},
   "source": [
    "As we can see there are 3 different color representations available in this dataset. There's a Hexadecimal, a HSL (Hue, Saturation, Lightness) and a RGB (Red, Green, Blue) representation. Furthermore we have access to the name of the color via the `name` attribute.\n",
    "\n",
    "In our analysis we're only interested in the name and the RGB value of every color. Given that we can create a simple dict which key is the lowercased color name and its value is a tuple containing the Red, Green and Blue values respectively."
   ]
  },
  {
   "cell_type": "code",
   "execution_count": 21,
   "metadata": {},
   "outputs": [],
   "source": [
    "colors = dict()\n",
    "\n",
    "for color in color_data:\n",
    "    name = color['name'].lower()\n",
    "    r = color['rgb']['r']\n",
    "    g = color['rgb']['g']\n",
    "    b = color['rgb']['b']\n",
    "    rgb = tuple([r, g, b])\n",
    "    colors[name] = rgb"
   ]
  },
  {
   "cell_type": "markdown",
   "metadata": {},
   "source": [
    "To validate that our data structure works the way we described above we can print out some sample colors with their RGB values."
   ]
  },
  {
   "cell_type": "code",
   "execution_count": 22,
   "metadata": {},
   "outputs": [
    {
     "name": "stdout",
     "output_type": "stream",
     "text": [
      "Black: (0, 0, 0)\n",
      "White: (255, 255, 255)\n",
      "\n",
      "Red: (255, 0, 0)\n",
      "Lime: (0, 255, 0)\n",
      "Blue: (0, 0, 255)\n"
     ]
    }
   ],
   "source": [
    "print('Black: %s' % (colors['black'],))\n",
    "print('White: %s' % (colors['white'],))\n",
    "\n",
    "print()\n",
    "\n",
    "print('Red: %s' % (colors['red'],))\n",
    "print('Lime: %s' % (colors['lime'],))\n",
    "print('Blue: %s' % (colors['blue'],))"
   ]
  },
  {
   "cell_type": "markdown",
   "metadata": {},
   "source": [
    "While our dict is a good starting point it's often easier and sometimes faster to do computations on the data if it's stored in a Pandas [DataFrame](https://pandas.pydata.org/pandas-docs/stable/reference/api/pandas.DataFrame.html). The [`from_dict`](https://pandas.pydata.org/pandas-docs/stable/reference/api/pandas.DataFrame.from_dict.html) function helps us to turn a simple Python dictionary into a DataFrame."
   ]
  },
  {
   "cell_type": "code",
   "execution_count": 23,
   "metadata": {},
   "outputs": [
    {
     "data": {
      "text/html": [
       "<div>\n",
       "<style scoped>\n",
       "    .dataframe tbody tr th:only-of-type {\n",
       "        vertical-align: middle;\n",
       "    }\n",
       "\n",
       "    .dataframe tbody tr th {\n",
       "        vertical-align: top;\n",
       "    }\n",
       "\n",
       "    .dataframe thead th {\n",
       "        text-align: right;\n",
       "    }\n",
       "</style>\n",
       "<table border=\"1\" class=\"dataframe\">\n",
       "  <thead>\n",
       "    <tr style=\"text-align: right;\">\n",
       "      <th></th>\n",
       "      <th>r</th>\n",
       "      <th>g</th>\n",
       "      <th>b</th>\n",
       "    </tr>\n",
       "  </thead>\n",
       "  <tbody>\n",
       "    <tr>\n",
       "      <th>black</th>\n",
       "      <td>0</td>\n",
       "      <td>0</td>\n",
       "      <td>0</td>\n",
       "    </tr>\n",
       "    <tr>\n",
       "      <th>maroon</th>\n",
       "      <td>128</td>\n",
       "      <td>0</td>\n",
       "      <td>0</td>\n",
       "    </tr>\n",
       "    <tr>\n",
       "      <th>green</th>\n",
       "      <td>0</td>\n",
       "      <td>128</td>\n",
       "      <td>0</td>\n",
       "    </tr>\n",
       "    <tr>\n",
       "      <th>olive</th>\n",
       "      <td>128</td>\n",
       "      <td>128</td>\n",
       "      <td>0</td>\n",
       "    </tr>\n",
       "    <tr>\n",
       "      <th>navy</th>\n",
       "      <td>0</td>\n",
       "      <td>0</td>\n",
       "      <td>128</td>\n",
       "    </tr>\n",
       "  </tbody>\n",
       "</table>\n",
       "</div>"
      ],
      "text/plain": [
       "          r    g    b\n",
       "black     0    0    0\n",
       "maroon  128    0    0\n",
       "green     0  128    0\n",
       "olive   128  128    0\n",
       "navy      0    0  128"
      ]
     },
     "execution_count": 23,
     "metadata": {},
     "output_type": "execute_result"
    }
   ],
   "source": [
    "df = pd.DataFrame.from_dict(colors, orient='index', columns=['r', 'g', 'b'])\n",
    "df.head()"
   ]
  },
  {
   "cell_type": "markdown",
   "metadata": {},
   "source": [
    "Seeing the data formatted in this way we can think of its representation as a mapping of the Red, Green and Blue values into a 3-Dimensional space where for example Red is the X axis, Green is the Y axis and Blue is the Z axis.\n",
    "\n",
    "You might recall that we've used [Euclidean distance](https://en.wikipedia.org/wiki/Euclidean_distance) in our Country example above to determine how \"similar\" countries are. The main idea was that similar countries have less distance between their data points compared to dissimilar countries whose data points are farther apart.\n",
    "\n",
    "Another very useful formula to calculate the similarity of data points is the so-called [Cosine similarity](https://en.wikipedia.org/wiki/Cosine_similarity). The Cosine similarity measures the angle between two vectors in a multi-dimensional space. The smaller the angle, the more similar the underlying data.\n",
    "\n",
    "Translating this to our color example we can think of every color being represented as a vector with 3 values (Red, Green and Blue) which (as stated above) can be mapped to the X, Y and Z axis in a 3D coordinate system. Using the Cosine similarity we can take one of such vectors and calculate the distance between it and the rest of the vectors to determine how similar or dissimilar they are. And that's exactly what we'll be doing here.\n",
    "\n",
    "The Math notation for the Cosine similarity looks like this:\n",
    "\n",
    "$$\n",
    "similarity = \\cos(\\Theta) = \\frac{A \\cdot B}{\\left\\lVert A\\right\\rVert \\left\\lVert B\\right\\rVert}\n",
    "$$\n",
    "\n",
    "We're taking the [dot-product](https://en.wikipedia.org/wiki/Dot_product) between the two vectors A and B and divide it by the product of their [magnitudes](https://en.wikipedia.org/wiki/Magnitude_(mathematics)#Euclidean_vector_space)."
   ]
  },
  {
   "cell_type": "markdown",
   "metadata": {},
   "source": [
    "The following code-snippet implements such formula. Again, it might look intimidating and rather complicated but if you take some time to read through it you'll see that it's not that hard to understand.\n",
    "\n",
    "In fact our implementation here does more than just calculating the Cosine similarity. In addition to that we copy our DataFrame containing the colors and add another column to it which will include the distance as a value between 0 and 1. Once done we sort our copied DataFrame by such distance in descending order. We do this to see the computed values when querying for similar colors later on."
   ]
  },
  {
   "cell_type": "code",
   "execution_count": 24,
   "metadata": {},
   "outputs": [],
   "source": [
    "def similar(df, coord, n=10):\n",
    "    # turning our RGB values (3D coordinates) into a numpy array\n",
    "    v1 = np.array(coord, dtype=np.float64)\n",
    "    \n",
    "    df_copy = df.copy()\n",
    "\n",
    "    # looping through our DataFrame to calculate the distance for every color\n",
    "    for i in df_copy.index:\n",
    "        item = df_copy.loc[i]\n",
    "        v2 = np.array([item.r, item.g, item.b], dtype=np.float64)\n",
    "        # cosine similarty calculation starts here\n",
    "        theta_sum = np.dot(v1, v2)\n",
    "        theta_den = np.linalg.norm(v1) * np.linalg.norm(v2)\n",
    "        # check if we're trying to divide by 0\n",
    "        if theta_den == 0:\n",
    "            theta = None\n",
    "        else:\n",
    "            theta = theta_sum / theta_den\n",
    "        # adding the `distance` column with the result of our computation\n",
    "        df_copy.at[i, 'distance'] = theta\n",
    "    # sorting the resulting DataFrame by distance\n",
    "    df_copy.sort_values(by='distance', axis=0, ascending=False, inplace=True)\n",
    "    return df_copy.head(n)"
   ]
  },
  {
   "cell_type": "markdown",
   "metadata": {},
   "source": [
    "To validate that our `similar` function works we can use it to find similar colors to `red`."
   ]
  },
  {
   "cell_type": "code",
   "execution_count": 25,
   "metadata": {},
   "outputs": [
    {
     "data": {
      "text/html": [
       "<div>\n",
       "<style scoped>\n",
       "    .dataframe tbody tr th:only-of-type {\n",
       "        vertical-align: middle;\n",
       "    }\n",
       "\n",
       "    .dataframe tbody tr th {\n",
       "        vertical-align: top;\n",
       "    }\n",
       "\n",
       "    .dataframe thead th {\n",
       "        text-align: right;\n",
       "    }\n",
       "</style>\n",
       "<table border=\"1\" class=\"dataframe\">\n",
       "  <thead>\n",
       "    <tr style=\"text-align: right;\">\n",
       "      <th></th>\n",
       "      <th>r</th>\n",
       "      <th>g</th>\n",
       "      <th>b</th>\n",
       "      <th>distance</th>\n",
       "    </tr>\n",
       "  </thead>\n",
       "  <tbody>\n",
       "    <tr>\n",
       "      <th>maroon</th>\n",
       "      <td>128</td>\n",
       "      <td>0</td>\n",
       "      <td>0</td>\n",
       "      <td>1.000000</td>\n",
       "    </tr>\n",
       "    <tr>\n",
       "      <th>red3</th>\n",
       "      <td>215</td>\n",
       "      <td>0</td>\n",
       "      <td>0</td>\n",
       "      <td>1.000000</td>\n",
       "    </tr>\n",
       "    <tr>\n",
       "      <th>red1</th>\n",
       "      <td>255</td>\n",
       "      <td>0</td>\n",
       "      <td>0</td>\n",
       "      <td>1.000000</td>\n",
       "    </tr>\n",
       "    <tr>\n",
       "      <th>darkred</th>\n",
       "      <td>135</td>\n",
       "      <td>0</td>\n",
       "      <td>0</td>\n",
       "      <td>1.000000</td>\n",
       "    </tr>\n",
       "    <tr>\n",
       "      <th>red</th>\n",
       "      <td>255</td>\n",
       "      <td>0</td>\n",
       "      <td>0</td>\n",
       "      <td>1.000000</td>\n",
       "    </tr>\n",
       "    <tr>\n",
       "      <th>orangered1</th>\n",
       "      <td>255</td>\n",
       "      <td>95</td>\n",
       "      <td>0</td>\n",
       "      <td>0.937082</td>\n",
       "    </tr>\n",
       "    <tr>\n",
       "      <th>deeppink2</th>\n",
       "      <td>255</td>\n",
       "      <td>0</td>\n",
       "      <td>95</td>\n",
       "      <td>0.937082</td>\n",
       "    </tr>\n",
       "    <tr>\n",
       "      <th>darkorange3</th>\n",
       "      <td>215</td>\n",
       "      <td>95</td>\n",
       "      <td>0</td>\n",
       "      <td>0.914687</td>\n",
       "    </tr>\n",
       "    <tr>\n",
       "      <th>darkorange</th>\n",
       "      <td>255</td>\n",
       "      <td>135</td>\n",
       "      <td>0</td>\n",
       "      <td>0.883788</td>\n",
       "    </tr>\n",
       "    <tr>\n",
       "      <th>deeppink4</th>\n",
       "      <td>175</td>\n",
       "      <td>0</td>\n",
       "      <td>95</td>\n",
       "      <td>0.878853</td>\n",
       "    </tr>\n",
       "  </tbody>\n",
       "</table>\n",
       "</div>"
      ],
      "text/plain": [
       "               r    g   b  distance\n",
       "maroon       128    0   0  1.000000\n",
       "red3         215    0   0  1.000000\n",
       "red1         255    0   0  1.000000\n",
       "darkred      135    0   0  1.000000\n",
       "red          255    0   0  1.000000\n",
       "orangered1   255   95   0  0.937082\n",
       "deeppink2    255    0  95  0.937082\n",
       "darkorange3  215   95   0  0.914687\n",
       "darkorange   255  135   0  0.883788\n",
       "deeppink4    175    0  95  0.878853"
      ]
     },
     "execution_count": 25,
     "metadata": {},
     "output_type": "execute_result"
    }
   ],
   "source": [
    "similar(df, colors['red'])"
   ]
  },
  {
   "cell_type": "markdown",
   "metadata": {},
   "source": [
    "We can also pass in colors as a list of RGB values."
   ]
  },
  {
   "cell_type": "code",
   "execution_count": 26,
   "metadata": {},
   "outputs": [
    {
     "data": {
      "text/html": [
       "<div>\n",
       "<style scoped>\n",
       "    .dataframe tbody tr th:only-of-type {\n",
       "        vertical-align: middle;\n",
       "    }\n",
       "\n",
       "    .dataframe tbody tr th {\n",
       "        vertical-align: top;\n",
       "    }\n",
       "\n",
       "    .dataframe thead th {\n",
       "        text-align: right;\n",
       "    }\n",
       "</style>\n",
       "<table border=\"1\" class=\"dataframe\">\n",
       "  <thead>\n",
       "    <tr style=\"text-align: right;\">\n",
       "      <th></th>\n",
       "      <th>r</th>\n",
       "      <th>g</th>\n",
       "      <th>b</th>\n",
       "      <th>distance</th>\n",
       "    </tr>\n",
       "  </thead>\n",
       "  <tbody>\n",
       "    <tr>\n",
       "      <th>darkviolet</th>\n",
       "      <td>175</td>\n",
       "      <td>0</td>\n",
       "      <td>215</td>\n",
       "      <td>0.991837</td>\n",
       "    </tr>\n",
       "    <tr>\n",
       "      <th>darkmagenta</th>\n",
       "      <td>135</td>\n",
       "      <td>0</td>\n",
       "      <td>175</td>\n",
       "      <td>0.991199</td>\n",
       "    </tr>\n",
       "    <tr>\n",
       "      <th>magenta1</th>\n",
       "      <td>255</td>\n",
       "      <td>0</td>\n",
       "      <td>255</td>\n",
       "      <td>0.987829</td>\n",
       "    </tr>\n",
       "    <tr>\n",
       "      <th>magenta3</th>\n",
       "      <td>215</td>\n",
       "      <td>0</td>\n",
       "      <td>215</td>\n",
       "      <td>0.987829</td>\n",
       "    </tr>\n",
       "    <tr>\n",
       "      <th>fuchsia</th>\n",
       "      <td>255</td>\n",
       "      <td>0</td>\n",
       "      <td>255</td>\n",
       "      <td>0.987829</td>\n",
       "    </tr>\n",
       "    <tr>\n",
       "      <th>mediumorchid1</th>\n",
       "      <td>255</td>\n",
       "      <td>95</td>\n",
       "      <td>255</td>\n",
       "      <td>0.987592</td>\n",
       "    </tr>\n",
       "    <tr>\n",
       "      <th>purple</th>\n",
       "      <td>175</td>\n",
       "      <td>0</td>\n",
       "      <td>255</td>\n",
       "      <td>0.987590</td>\n",
       "    </tr>\n",
       "    <tr>\n",
       "      <th>orchid</th>\n",
       "      <td>215</td>\n",
       "      <td>95</td>\n",
       "      <td>215</td>\n",
       "      <td>0.980753</td>\n",
       "    </tr>\n",
       "    <tr>\n",
       "      <th>mediumorchid</th>\n",
       "      <td>175</td>\n",
       "      <td>95</td>\n",
       "      <td>215</td>\n",
       "      <td>0.979443</td>\n",
       "    </tr>\n",
       "    <tr>\n",
       "      <th>magenta2</th>\n",
       "      <td>255</td>\n",
       "      <td>0</td>\n",
       "      <td>215</td>\n",
       "      <td>0.976656</td>\n",
       "    </tr>\n",
       "  </tbody>\n",
       "</table>\n",
       "</div>"
      ],
      "text/plain": [
       "                 r   g    b  distance\n",
       "darkviolet     175   0  215  0.991837\n",
       "darkmagenta    135   0  175  0.991199\n",
       "magenta1       255   0  255  0.987829\n",
       "magenta3       215   0  215  0.987829\n",
       "fuchsia        255   0  255  0.987829\n",
       "mediumorchid1  255  95  255  0.987592\n",
       "purple         175   0  255  0.987590\n",
       "orchid         215  95  215  0.980753\n",
       "mediumorchid   175  95  215  0.979443\n",
       "magenta2       255   0  215  0.976656"
      ]
     },
     "execution_count": 26,
     "metadata": {},
     "output_type": "execute_result"
    }
   ],
   "source": [
    "similar(df, [100, 20, 120])"
   ]
  },
  {
   "cell_type": "markdown",
   "metadata": {},
   "source": [
    "Since it's hard to imagine what color `100`, `20` and `120` represent it's worthwhile to use our `render_color` function to see it."
   ]
  },
  {
   "cell_type": "code",
   "execution_count": 27,
   "metadata": {},
   "outputs": [
    {
     "data": {
      "text/html": [
       "\n",
       "      <div style=\"background-color: rgba(100, 20, 120, 1); height: 100px;\"></div>\n",
       "    "
      ],
      "text/plain": [
       "<IPython.core.display.HTML object>"
      ]
     },
     "metadata": {
      "isolated": true
     },
     "output_type": "display_data"
    }
   ],
   "source": [
    "render_color(100, 20, 120)"
   ]
  },
  {
   "cell_type": "markdown",
   "metadata": {},
   "source": [
    "Looking at the list of most similar colors from above it appears that `darkviolet` is quite similar to `100`, `20`, `120`. Let's see how this color looks like."
   ]
  },
  {
   "cell_type": "code",
   "execution_count": 28,
   "metadata": {},
   "outputs": [
    {
     "data": {
      "text/html": [
       "\n",
       "      <div style=\"background-color: rgba(175, 0, 215, 1); height: 100px;\"></div>\n",
       "    "
      ],
      "text/plain": [
       "<IPython.core.display.HTML object>"
      ]
     },
     "metadata": {
      "isolated": true
     },
     "output_type": "display_data"
    }
   ],
   "source": [
    "darkviolet = df.loc['darkviolet']\n",
    "render_color(darkviolet.r, darkviolet.g, darkviolet.b)"
   ]
  },
  {
   "cell_type": "markdown",
   "metadata": {},
   "source": [
    "And we can validate that `darkviolet` in fact looks quite similar to `100`, `20`, `120`!"
   ]
  },
  {
   "cell_type": "markdown",
   "metadata": {},
   "source": [
    "But it doesn't end here. Our 3 color values are numbers in the range of 0 - 255. Given that, it should be possible to do some basic Math computations such as addition or subtraction on them.\n",
    "\n",
    "Since we only have access to 256 different colors it's highly unlikely that our resulting color values for Red, Green and Blue will exactly match one of our 256 colors. That's where our `similar` function comes in handy! The `similar` function should make it possible to calculate a new color and find its most similar representation in our 256 color dataset."
   ]
  },
  {
   "cell_type": "markdown",
   "metadata": {},
   "source": [
    "We can look at a [Color Wheel](https://www.sessions.edu/color-calculator/) to see that subtracintg a `red` color from `purple` one should result in a Blueish color. Let's do the Math and check whether that's true."
   ]
  },
  {
   "cell_type": "code",
   "execution_count": 29,
   "metadata": {},
   "outputs": [
    {
     "data": {
      "text/html": [
       "<div>\n",
       "<style scoped>\n",
       "    .dataframe tbody tr th:only-of-type {\n",
       "        vertical-align: middle;\n",
       "    }\n",
       "\n",
       "    .dataframe tbody tr th {\n",
       "        vertical-align: top;\n",
       "    }\n",
       "\n",
       "    .dataframe thead th {\n",
       "        text-align: right;\n",
       "    }\n",
       "</style>\n",
       "<table border=\"1\" class=\"dataframe\">\n",
       "  <thead>\n",
       "    <tr style=\"text-align: right;\">\n",
       "      <th></th>\n",
       "      <th>r</th>\n",
       "      <th>g</th>\n",
       "      <th>b</th>\n",
       "      <th>distance</th>\n",
       "    </tr>\n",
       "  </thead>\n",
       "  <tbody>\n",
       "    <tr>\n",
       "      <th>darkblue</th>\n",
       "      <td>0</td>\n",
       "      <td>0</td>\n",
       "      <td>135</td>\n",
       "      <td>0.954146</td>\n",
       "    </tr>\n",
       "    <tr>\n",
       "      <th>navyblue</th>\n",
       "      <td>0</td>\n",
       "      <td>0</td>\n",
       "      <td>95</td>\n",
       "      <td>0.954146</td>\n",
       "    </tr>\n",
       "    <tr>\n",
       "      <th>navy</th>\n",
       "      <td>0</td>\n",
       "      <td>0</td>\n",
       "      <td>128</td>\n",
       "      <td>0.954146</td>\n",
       "    </tr>\n",
       "    <tr>\n",
       "      <th>blue3</th>\n",
       "      <td>0</td>\n",
       "      <td>0</td>\n",
       "      <td>215</td>\n",
       "      <td>0.954146</td>\n",
       "    </tr>\n",
       "    <tr>\n",
       "      <th>blue1</th>\n",
       "      <td>0</td>\n",
       "      <td>0</td>\n",
       "      <td>255</td>\n",
       "      <td>0.954146</td>\n",
       "    </tr>\n",
       "    <tr>\n",
       "      <th>blue</th>\n",
       "      <td>0</td>\n",
       "      <td>0</td>\n",
       "      <td>255</td>\n",
       "      <td>0.954146</td>\n",
       "    </tr>\n",
       "    <tr>\n",
       "      <th>dodgerblue2</th>\n",
       "      <td>0</td>\n",
       "      <td>95</td>\n",
       "      <td>255</td>\n",
       "      <td>0.894114</td>\n",
       "    </tr>\n",
       "    <tr>\n",
       "      <th>dodgerblue3</th>\n",
       "      <td>0</td>\n",
       "      <td>95</td>\n",
       "      <td>215</td>\n",
       "      <td>0.872745</td>\n",
       "    </tr>\n",
       "    <tr>\n",
       "      <th>dodgerblue1</th>\n",
       "      <td>0</td>\n",
       "      <td>135</td>\n",
       "      <td>255</td>\n",
       "      <td>0.843263</td>\n",
       "    </tr>\n",
       "    <tr>\n",
       "      <th>deepskyblue4</th>\n",
       "      <td>0</td>\n",
       "      <td>95</td>\n",
       "      <td>175</td>\n",
       "      <td>0.838555</td>\n",
       "    </tr>\n",
       "  </tbody>\n",
       "</table>\n",
       "</div>"
      ],
      "text/plain": [
       "              r    g    b  distance\n",
       "darkblue      0    0  135  0.954146\n",
       "navyblue      0    0   95  0.954146\n",
       "navy          0    0  128  0.954146\n",
       "blue3         0    0  215  0.954146\n",
       "blue1         0    0  255  0.954146\n",
       "blue          0    0  255  0.954146\n",
       "dodgerblue2   0   95  255  0.894114\n",
       "dodgerblue3   0   95  215  0.872745\n",
       "dodgerblue1   0  135  255  0.843263\n",
       "deepskyblue4  0   95  175  0.838555"
      ]
     },
     "execution_count": 29,
     "metadata": {},
     "output_type": "execute_result"
    }
   ],
   "source": [
    "blueish = df.loc['purple'] - df.loc['red']\n",
    "\n",
    "similar(df, blueish)"
   ]
  },
  {
   "cell_type": "markdown",
   "metadata": {},
   "source": [
    "And sure enough the most similar colors in our dataset are Blueish ones. We can validate that by rendering `darkblue`, one of the best matches."
   ]
  },
  {
   "cell_type": "code",
   "execution_count": 30,
   "metadata": {},
   "outputs": [
    {
     "data": {
      "text/html": [
       "\n",
       "      <div style=\"background-color: rgba(0, 0, 135, 1); height: 100px;\"></div>\n",
       "    "
      ],
      "text/plain": [
       "<IPython.core.display.HTML object>"
      ]
     },
     "metadata": {
      "isolated": true
     },
     "output_type": "display_data"
    }
   ],
   "source": [
    "darkblue = df.loc['darkblue']\n",
    "render_color(darkblue.r, darkblue.g, darkblue.b)"
   ]
  },
  {
   "cell_type": "markdown",
   "metadata": {},
   "source": [
    "Here's a simple one. If we have Black and add some White to the mix we should get something Greyish, correct?"
   ]
  },
  {
   "cell_type": "code",
   "execution_count": 31,
   "metadata": {},
   "outputs": [
    {
     "data": {
      "text/html": [
       "<div>\n",
       "<style scoped>\n",
       "    .dataframe tbody tr th:only-of-type {\n",
       "        vertical-align: middle;\n",
       "    }\n",
       "\n",
       "    .dataframe tbody tr th {\n",
       "        vertical-align: top;\n",
       "    }\n",
       "\n",
       "    .dataframe thead th {\n",
       "        text-align: right;\n",
       "    }\n",
       "</style>\n",
       "<table border=\"1\" class=\"dataframe\">\n",
       "  <thead>\n",
       "    <tr style=\"text-align: right;\">\n",
       "      <th></th>\n",
       "      <th>r</th>\n",
       "      <th>g</th>\n",
       "      <th>b</th>\n",
       "      <th>distance</th>\n",
       "    </tr>\n",
       "  </thead>\n",
       "  <tbody>\n",
       "    <tr>\n",
       "      <th>grey93</th>\n",
       "      <td>238</td>\n",
       "      <td>238</td>\n",
       "      <td>238</td>\n",
       "      <td>1.0</td>\n",
       "    </tr>\n",
       "    <tr>\n",
       "      <th>grey50</th>\n",
       "      <td>128</td>\n",
       "      <td>128</td>\n",
       "      <td>128</td>\n",
       "      <td>1.0</td>\n",
       "    </tr>\n",
       "    <tr>\n",
       "      <th>grey84</th>\n",
       "      <td>215</td>\n",
       "      <td>215</td>\n",
       "      <td>215</td>\n",
       "      <td>1.0</td>\n",
       "    </tr>\n",
       "    <tr>\n",
       "      <th>grey53</th>\n",
       "      <td>135</td>\n",
       "      <td>135</td>\n",
       "      <td>135</td>\n",
       "      <td>1.0</td>\n",
       "    </tr>\n",
       "    <tr>\n",
       "      <th>grey100</th>\n",
       "      <td>255</td>\n",
       "      <td>255</td>\n",
       "      <td>255</td>\n",
       "      <td>1.0</td>\n",
       "    </tr>\n",
       "    <tr>\n",
       "      <th>grey3</th>\n",
       "      <td>8</td>\n",
       "      <td>8</td>\n",
       "      <td>8</td>\n",
       "      <td>1.0</td>\n",
       "    </tr>\n",
       "    <tr>\n",
       "      <th>grey7</th>\n",
       "      <td>18</td>\n",
       "      <td>18</td>\n",
       "      <td>18</td>\n",
       "      <td>1.0</td>\n",
       "    </tr>\n",
       "    <tr>\n",
       "      <th>grey11</th>\n",
       "      <td>28</td>\n",
       "      <td>28</td>\n",
       "      <td>28</td>\n",
       "      <td>1.0</td>\n",
       "    </tr>\n",
       "    <tr>\n",
       "      <th>grey15</th>\n",
       "      <td>38</td>\n",
       "      <td>38</td>\n",
       "      <td>38</td>\n",
       "      <td>1.0</td>\n",
       "    </tr>\n",
       "    <tr>\n",
       "      <th>grey19</th>\n",
       "      <td>48</td>\n",
       "      <td>48</td>\n",
       "      <td>48</td>\n",
       "      <td>1.0</td>\n",
       "    </tr>\n",
       "  </tbody>\n",
       "</table>\n",
       "</div>"
      ],
      "text/plain": [
       "           r    g    b  distance\n",
       "grey93   238  238  238       1.0\n",
       "grey50   128  128  128       1.0\n",
       "grey84   215  215  215       1.0\n",
       "grey53   135  135  135       1.0\n",
       "grey100  255  255  255       1.0\n",
       "grey3      8    8    8       1.0\n",
       "grey7     18   18   18       1.0\n",
       "grey11    28   28   28       1.0\n",
       "grey15    38   38   38       1.0\n",
       "grey19    48   48   48       1.0"
      ]
     },
     "execution_count": 31,
     "metadata": {},
     "output_type": "execute_result"
    }
   ],
   "source": [
    "greyish = df.loc['black'] + df.loc['white']\n",
    "\n",
    "similar(df, greyish)"
   ]
  },
  {
   "cell_type": "markdown",
   "metadata": {},
   "source": [
    "And sure enough we do. Rendering `grey93` shows a light grey color."
   ]
  },
  {
   "cell_type": "code",
   "execution_count": 32,
   "metadata": {},
   "outputs": [
    {
     "data": {
      "text/html": [
       "\n",
       "      <div style=\"background-color: rgba(238, 238, 238, 1); height: 100px;\"></div>\n",
       "    "
      ],
      "text/plain": [
       "<IPython.core.display.HTML object>"
      ]
     },
     "metadata": {
      "isolated": true
     },
     "output_type": "display_data"
    }
   ],
   "source": [
    "grey93 = df.loc['grey93']\n",
    "render_color(grey93.r, grey93.g, grey93.b)"
   ]
  },
  {
   "cell_type": "markdown",
   "metadata": {},
   "source": [
    "Let's end our color exploration with a more complex formula. So far we've only done some very simple Math like subtracting and adding colors. But there's more we can do. We can also express our search for a color as a \"solve for x\" problem.\n",
    "\n",
    "Mixing Yellow and Red will result in Orange. We can translate this behavior to other colors as well. Here we ask \"Yellow is to Red as X is to Blue\" and express it in Math notation to get the result for X."
   ]
  },
  {
   "cell_type": "code",
   "execution_count": 33,
   "metadata": {},
   "outputs": [
    {
     "data": {
      "text/html": [
       "<div>\n",
       "<style scoped>\n",
       "    .dataframe tbody tr th:only-of-type {\n",
       "        vertical-align: middle;\n",
       "    }\n",
       "\n",
       "    .dataframe tbody tr th {\n",
       "        vertical-align: top;\n",
       "    }\n",
       "\n",
       "    .dataframe thead th {\n",
       "        text-align: right;\n",
       "    }\n",
       "</style>\n",
       "<table border=\"1\" class=\"dataframe\">\n",
       "  <thead>\n",
       "    <tr style=\"text-align: right;\">\n",
       "      <th></th>\n",
       "      <th>r</th>\n",
       "      <th>g</th>\n",
       "      <th>b</th>\n",
       "      <th>distance</th>\n",
       "    </tr>\n",
       "  </thead>\n",
       "  <tbody>\n",
       "    <tr>\n",
       "      <th>lightseagreen</th>\n",
       "      <td>0</td>\n",
       "      <td>175</td>\n",
       "      <td>175</td>\n",
       "      <td>1.000000</td>\n",
       "    </tr>\n",
       "    <tr>\n",
       "      <th>turquoise4</th>\n",
       "      <td>0</td>\n",
       "      <td>135</td>\n",
       "      <td>135</td>\n",
       "      <td>1.000000</td>\n",
       "    </tr>\n",
       "    <tr>\n",
       "      <th>darkturquoise</th>\n",
       "      <td>0</td>\n",
       "      <td>215</td>\n",
       "      <td>215</td>\n",
       "      <td>1.000000</td>\n",
       "    </tr>\n",
       "    <tr>\n",
       "      <th>teal</th>\n",
       "      <td>0</td>\n",
       "      <td>128</td>\n",
       "      <td>128</td>\n",
       "      <td>1.000000</td>\n",
       "    </tr>\n",
       "    <tr>\n",
       "      <th>cyan1</th>\n",
       "      <td>0</td>\n",
       "      <td>255</td>\n",
       "      <td>255</td>\n",
       "      <td>1.000000</td>\n",
       "    </tr>\n",
       "    <tr>\n",
       "      <th>aqua</th>\n",
       "      <td>0</td>\n",
       "      <td>255</td>\n",
       "      <td>255</td>\n",
       "      <td>1.000000</td>\n",
       "    </tr>\n",
       "    <tr>\n",
       "      <th>turquoise2</th>\n",
       "      <td>0</td>\n",
       "      <td>215</td>\n",
       "      <td>255</td>\n",
       "      <td>0.996398</td>\n",
       "    </tr>\n",
       "    <tr>\n",
       "      <th>cyan2</th>\n",
       "      <td>0</td>\n",
       "      <td>255</td>\n",
       "      <td>215</td>\n",
       "      <td>0.996398</td>\n",
       "    </tr>\n",
       "    <tr>\n",
       "      <th>deepskyblue2</th>\n",
       "      <td>0</td>\n",
       "      <td>175</td>\n",
       "      <td>215</td>\n",
       "      <td>0.994781</td>\n",
       "    </tr>\n",
       "    <tr>\n",
       "      <th>cyan3</th>\n",
       "      <td>0</td>\n",
       "      <td>215</td>\n",
       "      <td>175</td>\n",
       "      <td>0.994781</td>\n",
       "    </tr>\n",
       "  </tbody>\n",
       "</table>\n",
       "</div>"
      ],
      "text/plain": [
       "               r    g    b  distance\n",
       "lightseagreen  0  175  175  1.000000\n",
       "turquoise4     0  135  135  1.000000\n",
       "darkturquoise  0  215  215  1.000000\n",
       "teal           0  128  128  1.000000\n",
       "cyan1          0  255  255  1.000000\n",
       "aqua           0  255  255  1.000000\n",
       "turquoise2     0  215  255  0.996398\n",
       "cyan2          0  255  215  0.996398\n",
       "deepskyblue2   0  175  215  0.994781\n",
       "cyan3          0  215  175  0.994781"
      ]
     },
     "execution_count": 33,
     "metadata": {},
     "output_type": "execute_result"
    }
   ],
   "source": [
    "# yellow is to red as X is to blue\n",
    "yellow_to_red = df.loc['yellow'] - df.loc['red']\n",
    "X = yellow_to_red + df.loc['blue']\n",
    "\n",
    "similar(df, X)"
   ]
  },
  {
   "cell_type": "markdown",
   "metadata": {},
   "source": [
    "Our calculation shows us that `lightseargreen` is to Blue as Yellow is to Red. Intuitively that makes sense if you think about it."
   ]
  },
  {
   "cell_type": "code",
   "execution_count": 34,
   "metadata": {},
   "outputs": [
    {
     "data": {
      "text/html": [
       "\n",
       "      <div style=\"background-color: rgba(0, 175, 175, 1); height: 100px;\"></div>\n",
       "    "
      ],
      "text/plain": [
       "<IPython.core.display.HTML object>"
      ]
     },
     "metadata": {
      "isolated": true
     },
     "output_type": "display_data"
    }
   ],
   "source": [
    "lightseagreen = df.loc['lightseagreen']\n",
    "render_color(lightseagreen.r, lightseagreen.g, lightseagreen.b)"
   ]
  },
  {
   "cell_type": "markdown",
   "metadata": {},
   "source": [
    "## Word2Vec"
   ]
  },
  {
   "cell_type": "markdown",
   "metadata": {},
   "source": [
    "In the beginnig of this tutorial I promised that once done we should understand the intuition behind [Word2Vec](https://en.wikipedia.org/wiki/Word2vec), a key component for modern Natural Language Processing models.\n",
    "\n",
    "The `Word2Vec` model does to words what we did with our colors represented as RGB values. It maps words into a multi-dimensional space (our colors were mapped into a 3D space). Once such words are mapped into that space we can perform Math calculations on their vectors the same way we e.g. calculated the similarity between our color vectors.\n",
    "\n",
    "Having a mapping of words into such a vector space makes it possible to do calculations resulting in:\n",
    "\n",
    "$$\n",
    "king - man + woman = queen\n",
    "$$"
   ]
  },
  {
   "cell_type": "markdown",
   "metadata": {},
   "source": [
    "## Conclusion\n",
    "\n",
    "In this tutorial we took a deep dive into the main building blocks and intuitions behind Embeddings, a powerful concept which is heavily utilized in modern Natural Language Processing models.\n",
    "\n",
    "The main idea is to map data into a multi-dimensional space so that Math calculations from the realm of [Linear Algebra](https://en.wikipedia.org/wiki/Linear_algebra) can be performed on it.\n",
    "\n",
    "We started our journey with a simple example in which we mapped the surface area and population of different countries into a 2D vector space. We then used the [Euclidean distance](https://en.wikipedia.org/wiki/Euclidean_distance) to verify that certain countries are similar while others are dissimilar based on their metrics.\n",
    "\n",
    "Another, more advanced example mapped colors and their RGB representation into a 3D vector space. We then used [Cosine similarity](https://en.wikipedia.org/wiki/Cosine_similarity) and some basic Math to add and subtract colors.\n",
    "\n",
    "With this knowledge we're now able to understand how more advanced models such as [Word2Vec](https://en.wikipedia.org/wiki/Word2vec) or [Doc2Vec](https://cs.stanford.edu/~quocle/paragraph_vector.pdf) make it possible to do calculations on words and texts."
   ]
  },
  {
   "cell_type": "markdown",
   "metadata": {},
   "source": [
    "Do you have any questions / feedback? Feel free to reach out to me via E-Mail or Twitter!"
   ]
  },
  {
   "cell_type": "markdown",
   "metadata": {},
   "source": [
    "## The Lab\n",
    "\n",
    "You can find more code examples, experiments and tutorials in my GitHub [Lab](https://github.com/pmuens/lab) repository."
   ]
  },
  {
   "cell_type": "markdown",
   "metadata": {},
   "source": [
    "## Additional Resources\n",
    "\n",
    "Eager to learn more? Here's a list with all the resources I've used to write this post.\n",
    "\n",
    "- [Allison Parrish - Understanding word vectors](https://gist.github.com/aparrish/2f562e3737544cf29aaf1af30362f469)\n",
    "- [Jay Alammar - The Illustrated Word2Vec](https://jalammar.github.io/illustrated-word2vec/)\n",
    "- [Derek Chia - A line-by-line implemenation of Word2Vec](https://towardsdatascience.com/an-implementation-guide-to-word2vec-using-numpy-and-google-sheets-13445eebd281)\n",
    "- [Skymind.ai - A Beginners Guide to Word2Vec](https://skymind.ai/wiki/word2vec)\n",
    "- [Word2Vec Paper](https://papers.nips.cc/paper/5021-distributed-representations-of-words-and-phrases-and-their-compositionality.pdf)\n",
    "- [Doc2Vec Paper](https://cs.stanford.edu/~quocle/paragraph_vector.pdf)"
   ]
  }
 ],
 "metadata": {
  "kernelspec": {
   "display_name": "Python 3",
   "language": "python",
   "name": "python3"
  },
  "language_info": {
   "codemirror_mode": {
    "name": "ipython",
    "version": 3
   },
   "file_extension": ".py",
   "mimetype": "text/x-python",
   "name": "python",
   "nbconvert_exporter": "python",
   "pygments_lexer": "ipython3",
   "version": "3.6.9"
  }
 },
 "nbformat": 4,
 "nbformat_minor": 2
}
