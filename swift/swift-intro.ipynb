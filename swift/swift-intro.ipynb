{
 "cells": [
  {
   "cell_type": "markdown",
   "metadata": {},
   "source": [
    "# Swift Intro"
   ]
  },
  {
   "cell_type": "markdown",
   "metadata": {},
   "source": [
    "## Python-like syntax"
   ]
  },
  {
   "cell_type": "code",
   "execution_count": 1,
   "metadata": {},
   "outputs": [
    {
     "name": "stdout",
     "output_type": "stream",
     "text": [
      "Hello World\r\n",
      "3\r\n",
      "10\r\n",
      "35\r\n",
      "52\r\n",
      "92\r\n",
      "88\r\n",
      "👋 I'm Mitsy and I have 9 remaining lives 😸\r\n"
     ]
    }
   ],
   "source": [
    "let greeting = \"Hello World\"\n",
    "print(greeting)\n",
    "// Hello World\n",
    "\n",
    "let num1 = 1\n",
    "let num2 = 2\n",
    "print(num1 + num2)\n",
    "// 3\n",
    "\n",
    "let scores = [10, 35, 52, 92, 88]\n",
    "for score in scores {\n",
    "    print(score)\n",
    "}\n",
    "// 10\n",
    "// 35\n",
    "// 52\n",
    "// 92\n",
    "// 88\n",
    "\n",
    "class Cat {\n",
    "    var name: String\n",
    "    var livesRemaining: Int = 9\n",
    "    \n",
    "    init(name: String) {\n",
    "        self.name = name\n",
    "    }\n",
    "    \n",
    "    func describe() -> String {\n",
    "        return \"👋 I'm \\(self.name) and I have \\(self.livesRemaining) remaining lives 😸\"\n",
    "    }\n",
    "}\n",
    "let mitsy = Cat(name: \"Mitsy\")\n",
    "print(mitsy.describe())\n",
    "// 👋 I'm Mitsy and I have 9 remaining lives 😸"
   ]
  },
  {
   "cell_type": "markdown",
   "metadata": {},
   "source": [
    "## Static typing"
   ]
  },
  {
   "cell_type": "code",
   "execution_count": 2,
   "metadata": {},
   "outputs": [
    {
     "ename": "",
     "evalue": "",
     "output_type": "error",
     "traceback": [
      "error: <Cell 2>:17:28: error: cannot convert value of type '[String]' to expected argument type '[Int]'\nlet resultString = sum(xs: stringNumbers)\n                           ^\n\n<Cell 2>:17:28: note: arguments to generic parameter 'Element' ('String' and 'Int') are expected to be equal\nlet resultString = sum(xs: stringNumbers)\n                           ^\n\n"
     ]
    }
   ],
   "source": [
    "func sum(xs: [Int]) -> Int {\n",
    "    var result: Int = 0\n",
    "    for x: Int in xs {\n",
    "        result = result + x\n",
    "    }\n",
    "    return result\n",
    "}\n",
    "\n",
    "// Using correct types\n",
    "let intNumbers: [Int] = [1, 2, 3, 4, 5]\n",
    "let resultInt = sum(xs: intNumbers)\n",
    "print(resultInt)\n",
    "// 15\n",
    "\n",
    "// Using incorrect types\n",
    "let stringNumbers: [String] = [\"one\", \"two\", \"three\"]\n",
    "let resultString = sum(xs: stringNumbers)\n",
    "print(resultString)\n",
    "// error: cannot convert value of type '[String]' to expected argument type '[Int]'"
   ]
  },
  {
   "cell_type": "markdown",
   "metadata": {},
   "source": [
    "## Hackable"
   ]
  },
  {
   "cell_type": "markdown",
   "metadata": {},
   "source": [
    "### Protocols"
   ]
  },
  {
   "cell_type": "code",
   "execution_count": 3,
   "metadata": {},
   "outputs": [
    {
     "name": "stdout",
     "output_type": "stream",
     "text": [
      "Offers methods to aid with matrix-matrix multiplications.\r\n",
      "Offers methods to aid with matrix-vector multiplications.\r\n"
     ]
    }
   ],
   "source": [
    "// One needs to implement `help` when using the `Debugging` Protocol\n",
    "protocol Debugging {\n",
    "    func help() -> String\n",
    "}\n",
    "\n",
    "// Implementing `Debugging` for MatrixMultiply\n",
    "class MatrixMultiply: Debugging {\n",
    "    func help() -> String {\n",
    "        return \"Offers methods to aid with matrix-matrix multiplications.\"\n",
    "    }\n",
    "    \n",
    "    func multiply() {\n",
    "        // ...\n",
    "    }\n",
    "}\n",
    "var matMult = MatrixMultiply()\n",
    "print(matMult.help())\n",
    "// Offers methods to aid with matrix-matrix multiplications.\n",
    "\n",
    "// Implementing `Debugging` for VectorMultiply\n",
    "class VectorMultiply: Debugging {\n",
    "    func help() -> String {\n",
    "        return \"Offers methods to aid with matrix-vector multiplications.\"\n",
    "    }\n",
    "}\n",
    "var vecMult = VectorMultiply()\n",
    "print(vecMult.help())\n",
    "// Offers methods to aid with matrix-vector multiplications."
   ]
  },
  {
   "cell_type": "markdown",
   "metadata": {},
   "source": [
    "### Extensions"
   ]
  },
  {
   "cell_type": "code",
   "execution_count": 4,
   "metadata": {},
   "outputs": [
    {
     "name": "stdout",
     "output_type": "stream",
     "text": [
      "🎱\r\n",
      "💯\r\n",
      "42\r\n"
     ]
    }
   ],
   "source": [
    "// Makes it possible to emojify an existing type\n",
    "protocol Emojifier {\n",
    "    func emojify() -> String\n",
    "}\n",
    "\n",
    "// Here we're extending Swifts core `Int` type\n",
    "extension Int: Emojifier {\n",
    "    func emojify() -> String {\n",
    "        if self == 8 {\n",
    "            return \"🎱\"\n",
    "        } else if self == 100 {\n",
    "            return \"💯\"\n",
    "        }\n",
    "        return String(self)\n",
    "    }\n",
    "}\n",
    "\n",
    "\n",
    "print(8.emojify())\n",
    "// 🎱\n",
    "print(100.emojify())\n",
    "// 💯\n",
    "print(42.emojify())\n",
    "// 42"
   ]
  },
  {
   "cell_type": "markdown",
   "metadata": {},
   "source": [
    "## Value semantics"
   ]
  },
  {
   "cell_type": "code",
   "execution_count": 5,
   "metadata": {},
   "outputs": [
    {
     "name": "stdout",
     "output_type": "stream",
     "text": [
      "0x7f4f80dbe538\r\n",
      "0x7f4f80dbe538\r\n",
      "[1, 2, 3, 4, 5]\r\n",
      "[1, 2, 3, 4, 5, 6]\r\n",
      "0x7f4f80dbe538\r\n",
      "0x1c49570\r\n"
     ]
    }
   ],
   "source": [
    "// As seen on: https://marcosantadev.com/copy-write-swift-value-types/\n",
    "\n",
    "import Foundation\n",
    "\n",
    "// Prints the memory address of the given object\n",
    "func address(of object: UnsafeRawPointer) -> String {\n",
    "    let addr = Int(bitPattern: object)\n",
    "    return String(format: \"%p\", addr)\n",
    "}\n",
    "\n",
    "var list1 = [1, 2, 3, 4, 5]\n",
    "print(address(of: list1))\n",
    "// 0x7f4f80dbe538\n",
    "\n",
    "var list2 = list1\n",
    "print(address(of: list2))\n",
    "// 0x7f4f80dbe538 <-- Both lists share the same address\n",
    "\n",
    "list2.append(6) // <-- Mutating `list2`\n",
    "\n",
    "print(list1)\n",
    "// [1, 2, 3, 4, 5]\n",
    "\n",
    "print(list2)\n",
    "// [1, 2, 3, 4, 5, 6]\n",
    "\n",
    "print(address(of: list1))\n",
    "// 0x7f4f80dbe538\n",
    "print(address(of: list2))\n",
    "// 0x1c49570 <-- `list2` has a different address"
   ]
  }
 ],
 "metadata": {
  "kernelspec": {
   "display_name": "Swift",
   "language": "swift",
   "name": "swift"
  },
  "language_info": {
   "file_extension": ".swift",
   "mimetype": "text/x-swift",
   "name": "swift",
   "version": ""
  }
 },
 "nbformat": 4,
 "nbformat_minor": 4
}
